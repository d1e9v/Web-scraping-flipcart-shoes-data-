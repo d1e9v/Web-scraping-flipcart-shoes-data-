{
  "nbformat": 4,
  "nbformat_minor": 0,
  "metadata": {
    "colab": {
      "provenance": []
    },
    "kernelspec": {
      "name": "python3",
      "display_name": "Python 3"
    },
    "language_info": {
      "name": "python"
    }
  },
  "cells": [
    {
      "cell_type": "markdown",
      "source": [
        "**Scraping of Flipcart**\n",
        "\n",
        "\n",
        "> Mobile data under Rs 50000\n",
        "\n"
      ],
      "metadata": {
        "id": "xb_e8THRzCea"
      }
    },
    {
      "cell_type": "code",
      "execution_count": 23,
      "metadata": {
        "id": "e1bFy31JpZcZ"
      },
      "outputs": [],
      "source": [
        "import pandas as pd\n",
        "import requests\n",
        "from  bs4 import BeautifulSoup\n",
        "Product_name=[]\n",
        "Description=[]\n",
        "Prices=[]\n",
        "Reviwes=[]"
      ]
    },
    {
      "cell_type": "code",
      "source": [
        "for i in range(2,20):\n",
        "  url=\"https://www.flipkart.com/search?q=Mobiles+under+50000&otracker=search&otracker1=search&marketplace=FLIPKART&as-show=on&as=off&page=\"+str(i)\n",
        "  r=requests.get(url)\n",
        "  soup=BeautifulSoup(r.text,\"lxml\")\n",
        "  box=soup.find(\"div\",class_=\"_1YokD2 _3Mn1Gg\")\n",
        "  names=box.find_all(\"div\",class_=\"_4rR01T\")\n",
        "  for i in names:\n",
        "   name=i.text\n",
        "   Product_name.append(name)\n",
        "\n",
        "  prices=box.find_all(\"div\",class_=\"_30jeq3 _1_WHN1\")\n",
        "  \n",
        "  for i in prices:\n",
        "     name=i.text\n",
        "  \n",
        "     Prices.append(name)\n",
        "  \n",
        " \n",
        "  description=box.find_all(\"ul\",class_=\"_1xgFaf\")\n",
        "  for i in description:\n",
        "    name = i.text\n",
        "    Description.append(name)\n",
        "\n",
        "  \n",
        "  reviwes=box.find_all(\"div\",class_=\"_3LWZlK\")\n",
        "  for i in reviwes:\n",
        "    name =i.text\n",
        "    Reviwes.append(name)\n"
      ],
      "metadata": {
        "id": "60qoxdK0pb3p"
      },
      "execution_count": 24,
      "outputs": []
    },
    {
      "cell_type": "code",
      "source": [
        "df=pd.DataFrame({\"Product_name\":Product_name,\"Prices\":Prices,\"Reviwes\":Reviwes,\"Description\":Description})"
      ],
      "metadata": {
        "id": "Zq9n90EStRIg"
      },
      "execution_count": 25,
      "outputs": []
    },
    {
      "cell_type": "code",
      "source": [
        "df.to_csv(\"Dev flip mobies.csv\")"
      ],
      "metadata": {
        "id": "670YvCarwX_D"
      },
      "execution_count": 26,
      "outputs": []
    },
    {
      "cell_type": "code",
      "source": [
        "df.to_excel(\"Dev flip mobies.xlsx\")"
      ],
      "metadata": {
        "id": "tRRXS6MGxC4l"
      },
      "execution_count": 27,
      "outputs": []
    },
    {
      "cell_type": "code",
      "source": [],
      "metadata": {
        "id": "eIjQs-LGyeeR"
      },
      "execution_count": null,
      "outputs": []
    },
    {
      "cell_type": "code",
      "source": [
        "from google.colab import drive\n",
        "drive.mount('/content/drive')"
      ],
      "metadata": {
        "id": "bunzMQPB3MaC"
      },
      "execution_count": null,
      "outputs": []
    }
  ]
}